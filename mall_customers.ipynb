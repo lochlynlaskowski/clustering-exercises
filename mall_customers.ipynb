{
 "cells": [
  {
   "cell_type": "code",
   "execution_count": 1,
   "id": "65760459",
   "metadata": {},
   "outputs": [],
   "source": [
    "import pandas as pd\n",
    "import os\n",
    "from env import get_db_url\n",
    "import matplotlib as plt\n",
    "import seaborn as sns\n",
    "import numpy as np\n",
    "from sklearn.model_selection import train_test_split\n",
    "import sklearn.preprocessing\n"
   ]
  },
  {
   "cell_type": "markdown",
   "id": "44ad22b9",
   "metadata": {},
   "source": [
    "### Mall Customers\n",
    "\n",
    "- Acquire data from the customers table in the mall_customers database.\n",
    "- Summarize the data (include distributions and descriptive statistics).\n",
    "- Detect outliers using IQR.\n",
    "- Split data into train, validate, and test.\n",
    "- Encode categorical columns using a one hot encoder (pd.get_dummies).\n",
    "- Handles missing values.\n",
    "- Scaling"
   ]
  },
  {
   "cell_type": "markdown",
   "id": "53cbd832",
   "metadata": {},
   "source": [
    "### Acquire data from mall_customers database"
   ]
  },
  {
   "cell_type": "code",
   "execution_count": null,
   "id": "545ae687",
   "metadata": {},
   "outputs": [],
   "source": [
    "sql = '''SELECT * FROM customers;'''\n",
    "mall = pd.read_sql(sql, get_db_url('mall_customers'));"
   ]
  },
  {
   "cell_type": "code",
   "execution_count": null,
   "id": "396653c9",
   "metadata": {},
   "outputs": [],
   "source": [
    "mall.set_index(['customer_id'], inplace=True)"
   ]
  },
  {
   "cell_type": "markdown",
   "id": "84dec017",
   "metadata": {},
   "source": [
    "### Summarize the data"
   ]
  },
  {
   "cell_type": "code",
   "execution_count": null,
   "id": "fb5a1ddf",
   "metadata": {},
   "outputs": [],
   "source": [
    "mall.head()"
   ]
  },
  {
   "cell_type": "code",
   "execution_count": null,
   "id": "d1f9e261",
   "metadata": {},
   "outputs": [],
   "source": [
    "mall.info()"
   ]
  },
  {
   "cell_type": "code",
   "execution_count": null,
   "id": "2b26027e",
   "metadata": {},
   "outputs": [],
   "source": [
    "mall.describe().T"
   ]
  },
  {
   "cell_type": "code",
   "execution_count": null,
   "id": "385aab78",
   "metadata": {},
   "outputs": [],
   "source": [
    "mall.hist(figsize=(18,10),bins=10)"
   ]
  },
  {
   "cell_type": "markdown",
   "id": "25a999fb",
   "metadata": {},
   "source": [
    "### Detect outliers"
   ]
  },
  {
   "cell_type": "code",
   "execution_count": null,
   "id": "7bfa7384",
   "metadata": {
    "scrolled": true
   },
   "outputs": [],
   "source": [
    "sns.boxplot(y=mall.age)"
   ]
  },
  {
   "cell_type": "code",
   "execution_count": null,
   "id": "478c32bc",
   "metadata": {
    "scrolled": true
   },
   "outputs": [],
   "source": [
    "# annual income shows outliers\n",
    "sns.boxplot(y=mall.annual_income)"
   ]
  },
  {
   "cell_type": "code",
   "execution_count": null,
   "id": "37cac520",
   "metadata": {},
   "outputs": [],
   "source": [
    "sns.boxplot(y=mall.spending_score)"
   ]
  },
  {
   "cell_type": "code",
   "execution_count": null,
   "id": "17c18047",
   "metadata": {},
   "outputs": [],
   "source": [
    "q1 = mall.annual_income.quantile(0.25)\n",
    "q3 = mall.annual_income.quantile(0.75)\n",
    "iqr = q3 - q1\n",
    "upper_bound =  q3 + 1.5 * iqr\n"
   ]
  },
  {
   "cell_type": "code",
   "execution_count": null,
   "id": "edf4acdb",
   "metadata": {},
   "outputs": [],
   "source": [
    "# there are 2 outliers at 137k for annual income\n",
    "mall[mall.annual_income > upper_bound]"
   ]
  },
  {
   "cell_type": "markdown",
   "id": "2562d81a",
   "metadata": {},
   "source": [
    "### Split the data"
   ]
  },
  {
   "cell_type": "code",
   "execution_count": null,
   "id": "cbfedbcd",
   "metadata": {},
   "outputs": [],
   "source": [
    "def split_mall_data(df):\n",
    "    ''' This function splits the cleaned dataframe into train, validate, and test \n",
    "    datasets.'''\n",
    "\n",
    "    train_validate, test = train_test_split(df, test_size=.2, \n",
    "                                        random_state=123)\n",
    "    train, validate = train_test_split(train_validate, test_size=.3, \n",
    "                                   random_state=123) \n",
    "                                   \n",
    "    return train, validate, test"
   ]
  },
  {
   "cell_type": "code",
   "execution_count": null,
   "id": "439e8d52",
   "metadata": {},
   "outputs": [],
   "source": [
    "train, validate, test = split_mall_data(mall)"
   ]
  },
  {
   "cell_type": "markdown",
   "id": "892c5a99",
   "metadata": {},
   "source": [
    "### Encode the data"
   ]
  },
  {
   "cell_type": "code",
   "execution_count": null,
   "id": "07ecad79",
   "metadata": {},
   "outputs": [],
   "source": [
    "dummy_df = pd.get_dummies(mall[['gender']],dummy_na=False, drop_first=True)"
   ]
  },
  {
   "cell_type": "code",
   "execution_count": null,
   "id": "c5c3ac9e",
   "metadata": {},
   "outputs": [],
   "source": [
    "mall = pd.concat([mall, dummy_df], axis=1)"
   ]
  },
  {
   "cell_type": "code",
   "execution_count": null,
   "id": "244cec2e",
   "metadata": {},
   "outputs": [],
   "source": [
    "mall = mall.drop(columns='gender')"
   ]
  },
  {
   "cell_type": "code",
   "execution_count": null,
   "id": "39babc60",
   "metadata": {},
   "outputs": [],
   "source": [
    "mall.head()"
   ]
  },
  {
   "cell_type": "markdown",
   "id": "13a2f1ee",
   "metadata": {},
   "source": [
    "### Handle missing values"
   ]
  },
  {
   "cell_type": "code",
   "execution_count": null,
   "id": "af951a1f",
   "metadata": {},
   "outputs": [],
   "source": [
    "# no missing values to handle\n",
    "mall.isna().sum()"
   ]
  },
  {
   "cell_type": "markdown",
   "id": "ccc4e3ca",
   "metadata": {},
   "source": [
    "### Scale the data"
   ]
  },
  {
   "cell_type": "code",
   "execution_count": null,
   "id": "13c7f411",
   "metadata": {},
   "outputs": [],
   "source": [
    "def scale_data(train,\n",
    "              validate,\n",
    "              test,\n",
    "              columns_to_scale=['age','annual_income', 'spending_score']):\n",
    "    '''\n",
    "    Scales the split data.\n",
    "    Takes in train, validate and test data and returns the scaled data.\n",
    "    '''\n",
    "    train_scaled = train.copy()\n",
    "    validate_scaled = validate.copy()\n",
    "    test_scaled = test.copy()\n",
    "    \n",
    "    #using MinMaxScaler (best showing distribution once scaled)\n",
    "    scaler = sklearn.preprocessing.MinMaxScaler()\n",
    "    scaler.fit(train[columns_to_scale])\n",
    "    \n",
    "    #creating a df that puts MinMaxScaler to work on the wanted columns and returns the split datasets and counterparts\n",
    "    train_scaled[columns_to_scale] = pd.DataFrame(scaler.transform(train[columns_to_scale]),\n",
    "                                                 columns=train[columns_to_scale].columns.values).set_index([train.index.values])\n",
    "    \n",
    "    validate_scaled[columns_to_scale] = pd.DataFrame(scaler.transform(validate[columns_to_scale]),\n",
    "                                                 columns=validate[columns_to_scale].columns.values).set_index([validate.index.values])\n",
    "    \n",
    "    test_scaled[columns_to_scale] = pd.DataFrame(scaler.transform(test[columns_to_scale]),\n",
    "                                                 columns=test[columns_to_scale].columns.values).set_index([test.index.values])\n",
    "    \n",
    "    \n",
    "    return train_scaled, validate_scaled, test_scaled"
   ]
  },
  {
   "cell_type": "code",
   "execution_count": null,
   "id": "4fab2329",
   "metadata": {},
   "outputs": [],
   "source": [
    "train_scaled, validate_scaled, test_scaled = scale_data(train,test,validate)"
   ]
  },
  {
   "cell_type": "code",
   "execution_count": null,
   "id": "9e37c2db",
   "metadata": {},
   "outputs": [],
   "source": [
    "train_scaled.head()"
   ]
  },
  {
   "cell_type": "markdown",
   "id": "86cd8ad3",
   "metadata": {},
   "source": [
    "# To Do: wrangle_mall.py"
   ]
  },
  {
   "cell_type": "code",
   "execution_count": null,
   "id": "78316181",
   "metadata": {},
   "outputs": [],
   "source": []
  }
 ],
 "metadata": {
  "kernelspec": {
   "display_name": "Python 3 (ipykernel)",
   "language": "python",
   "name": "python3"
  },
  "language_info": {
   "codemirror_mode": {
    "name": "ipython",
    "version": 3
   },
   "file_extension": ".py",
   "mimetype": "text/x-python",
   "name": "python",
   "nbconvert_exporter": "python",
   "pygments_lexer": "ipython3",
   "version": "3.9.7"
  }
 },
 "nbformat": 4,
 "nbformat_minor": 5
}
