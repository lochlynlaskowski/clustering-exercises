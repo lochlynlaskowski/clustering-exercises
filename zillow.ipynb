{
 "cells": [
  {
   "cell_type": "code",
   "execution_count": 13,
   "id": "9189c8d1",
   "metadata": {},
   "outputs": [],
   "source": [
    "import pandas as pd\n",
    "import os\n",
    "from env import get_db_url\n",
    "import matplotlib as plt\n",
    "import seaborn as sns\n",
    "import numpy as np"
   ]
  },
  {
   "cell_type": "markdown",
   "id": "681c19b3",
   "metadata": {},
   "source": [
    "### Acquire and Summarize"
   ]
  },
  {
   "cell_type": "markdown",
   "id": "a2fd836e",
   "metadata": {},
   "source": [
    "Acquire data from the cloud database.\n",
    "\n",
    "You will want to end with a single dataframe. Include the logerror field and all other fields related to the properties that are available. You will end up using all the tables in the database.\n",
    "\n",
    "Be sure to do the correct join (inner, outer, etc.). We do not want to eliminate properties purely because they may have a null value for airconditioningtypeid. - Only include properties with a transaction in 2017, and include only the last transaction for each property (so no duplicate property ID's), along with zestimate error and date of transaction. (Hint: read the docs for the .duplicated method) - Only include properties that have a latitude and longitude value."
   ]
  },
  {
   "cell_type": "code",
   "execution_count": null,
   "id": "de4f631f",
   "metadata": {},
   "outputs": [],
   "source": [
    "sql = '''SELECT *\n",
    "FROM properties_2017\n",
    "LEFT JOIN predictions_2017 USING (parcelid)\n",
    "LEFT JOIN architecturalstyletype USING (architecturalstyletypeid)\n",
    "LEFT JOIN propertylandusetype USING (propertylandusetypeid)\n",
    "LEFT JOIN airconditioningtype USING (airconditioningtypeid)\n",
    "LEFT JOIN typeconstructiontype USING (typeconstructiontypeid)\n",
    "LEFT JOIN storytype USING (storytypeid)\n",
    "LEFT JOIN unique_properties USING (parcelid)\n",
    "LEFT JOIN heatingorsystemtype USING (heatingorsystemtypeid)\n",
    "WHERE propertylandusetype.propertylandusedesc = 'Single Family Residential'\n",
    "AND predictions_2017.transactiondate LIKE '2017%%';'''\n",
    "\n",
    "df = pd.read_sql(sql, get_db_url('zillow'));"
   ]
  },
  {
   "cell_type": "code",
   "execution_count": null,
   "id": "75ecfd8e",
   "metadata": {},
   "outputs": [],
   "source": [
    "df.head()"
   ]
  },
  {
   "cell_type": "markdown",
   "id": "625e54ef",
   "metadata": {},
   "source": [
    "Summarize your data (summary stats, info, dtypes, shape, distributions, value_counts, etc.)"
   ]
  },
  {
   "cell_type": "code",
   "execution_count": null,
   "id": "c59106c1",
   "metadata": {},
   "outputs": [],
   "source": [
    "df.shape"
   ]
  },
  {
   "cell_type": "code",
   "execution_count": null,
   "id": "0466dffb",
   "metadata": {},
   "outputs": [],
   "source": [
    "df.describe().T"
   ]
  },
  {
   "cell_type": "code",
   "execution_count": null,
   "id": "899b619f",
   "metadata": {},
   "outputs": [],
   "source": [
    "df.info()"
   ]
  },
  {
   "cell_type": "code",
   "execution_count": null,
   "id": "1528fd34",
   "metadata": {},
   "outputs": [],
   "source": [
    "df_num = df.select_dtypes(include='number')\n",
    "df_num"
   ]
  },
  {
   "cell_type": "code",
   "execution_count": null,
   "id": "c026e0d3",
   "metadata": {},
   "outputs": [],
   "source": [
    "# value counts for each column \n",
    "for column in df_num.columns:\n",
    "    print(column)\n",
    "    print(df_num[column].value_counts(ascending=False))\n",
    "    print(\"-----------------\")"
   ]
  },
  {
   "cell_type": "markdown",
   "id": "eca6b633",
   "metadata": {},
   "source": [
    "Write a function that takes in a dataframe of observations and attributes and returns a dataframe where each row is an atttribute name, the first column is the number of rows with missing values for that attribute, and the second column is percent of total rows that have missing values for that attribute. Run the function and document takeaways from this on how you want to handle missing values."
   ]
  },
  {
   "cell_type": "code",
   "execution_count": null,
   "id": "5ebab411",
   "metadata": {},
   "outputs": [],
   "source": [
    "def find_missing_values(df):\n",
    "    column_name = []\n",
    "    num_rows_missing = []\n",
    "    pct_rows_missing = []\n",
    "\n",
    "    for column in df.columns:       \n",
    "        num_rows_missing.append(df[column].isna().sum())\n",
    "        pct_rows_missing.append(df[column].isna().sum()/ len(df))\n",
    "        column_name.append(column)\n",
    "    data = {'column_name':column_name, 'num_rows_missing': num_rows_missing, 'pct_rows_missing': pct_rows_missing}\n",
    "    return pd.DataFrame(data, index=None)\n"
   ]
  },
  {
   "cell_type": "code",
   "execution_count": null,
   "id": "ae173657",
   "metadata": {},
   "outputs": [],
   "source": [
    "# call function and show dataframe\n",
    "missing_values = find_missing_values(df)\n",
    "missing_values.head()"
   ]
  },
  {
   "cell_type": "code",
   "execution_count": null,
   "id": "9930153a",
   "metadata": {},
   "outputs": [],
   "source": [
    "# set index to column name so that erroneous value is not assigned to index\n",
    "missing_values.set_index('column_name', inplace=True)"
   ]
  },
  {
   "cell_type": "code",
   "execution_count": null,
   "id": "d0700e8f",
   "metadata": {},
   "outputs": [],
   "source": [
    "missing_values.head()"
   ]
  },
  {
   "cell_type": "markdown",
   "id": "08bec5c7",
   "metadata": {},
   "source": [
    "### Prepare"
   ]
  },
  {
   "cell_type": "markdown",
   "id": "c3ff4d70",
   "metadata": {},
   "source": [
    "Remove any properties that are likely to be something other than single unit properties. (e.g. no duplexes, no land/lot, ...). There are multiple ways to estimate that a property is a single unit, and there is not a single \"right\" answer."
   ]
  },
  {
   "cell_type": "code",
   "execution_count": null,
   "id": "b38cfd0c",
   "metadata": {},
   "outputs": [],
   "source": []
  }
 ],
 "metadata": {
  "kernelspec": {
   "display_name": "Python 3 (ipykernel)",
   "language": "python",
   "name": "python3"
  },
  "language_info": {
   "codemirror_mode": {
    "name": "ipython",
    "version": 3
   },
   "file_extension": ".py",
   "mimetype": "text/x-python",
   "name": "python",
   "nbconvert_exporter": "python",
   "pygments_lexer": "ipython3",
   "version": "3.9.7"
  }
 },
 "nbformat": 4,
 "nbformat_minor": 5
}
