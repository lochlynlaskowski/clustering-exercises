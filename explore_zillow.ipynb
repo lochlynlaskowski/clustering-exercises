{
 "cells": [
  {
   "cell_type": "code",
   "execution_count": 1,
   "id": "46a1513a",
   "metadata": {},
   "outputs": [],
   "source": [
    "import pandas as pd\n",
    "import os\n",
    "from env import get_db_url\n",
    "import matplotlib as plt\n",
    "import seaborn as sns\n",
    "import numpy as np\n",
    "from sklearn.model_selection import train_test_split\n",
    "import sklearn.preprocessing\n",
    "import wrangle_zillow"
   ]
  },
  {
   "cell_type": "markdown",
   "id": "4fb217ff",
   "metadata": {},
   "source": [
    "### Acquire"
   ]
  },
  {
   "cell_type": "code",
   "execution_count": 2,
   "id": "3f722327",
   "metadata": {},
   "outputs": [],
   "source": [
    "df = wrangle_zillow.get_zillow_data()"
   ]
  },
  {
   "cell_type": "code",
   "execution_count": 3,
   "id": "fed36daa",
   "metadata": {},
   "outputs": [
    {
     "data": {
      "text/html": [
       "<div>\n",
       "<style scoped>\n",
       "    .dataframe tbody tr th:only-of-type {\n",
       "        vertical-align: middle;\n",
       "    }\n",
       "\n",
       "    .dataframe tbody tr th {\n",
       "        vertical-align: top;\n",
       "    }\n",
       "\n",
       "    .dataframe thead th {\n",
       "        text-align: right;\n",
       "    }\n",
       "</style>\n",
       "<table border=\"1\" class=\"dataframe\">\n",
       "  <thead>\n",
       "    <tr style=\"text-align: right;\">\n",
       "      <th></th>\n",
       "      <th>heatingorsystemtypeid</th>\n",
       "      <th>parcelid</th>\n",
       "      <th>storytypeid</th>\n",
       "      <th>typeconstructiontypeid</th>\n",
       "      <th>airconditioningtypeid</th>\n",
       "      <th>propertylandusetypeid</th>\n",
       "      <th>architecturalstyletypeid</th>\n",
       "      <th>id</th>\n",
       "      <th>basementsqft</th>\n",
       "      <th>bathroomcnt</th>\n",
       "      <th>...</th>\n",
       "      <th>max_transactiondate</th>\n",
       "      <th>id</th>\n",
       "      <th>logerror</th>\n",
       "      <th>transactiondate</th>\n",
       "      <th>architecturalstyledesc</th>\n",
       "      <th>propertylandusedesc</th>\n",
       "      <th>airconditioningdesc</th>\n",
       "      <th>typeconstructiondesc</th>\n",
       "      <th>storydesc</th>\n",
       "      <th>heatingorsystemdesc</th>\n",
       "    </tr>\n",
       "  </thead>\n",
       "  <tbody>\n",
       "    <tr>\n",
       "      <th>0</th>\n",
       "      <td>NaN</td>\n",
       "      <td>14297519</td>\n",
       "      <td>NaN</td>\n",
       "      <td>NaN</td>\n",
       "      <td>NaN</td>\n",
       "      <td>261.0</td>\n",
       "      <td>NaN</td>\n",
       "      <td>1727539</td>\n",
       "      <td>NaN</td>\n",
       "      <td>3.5</td>\n",
       "      <td>...</td>\n",
       "      <td>2017-01-01</td>\n",
       "      <td>0</td>\n",
       "      <td>0.025595</td>\n",
       "      <td>2017-01-01</td>\n",
       "      <td>None</td>\n",
       "      <td>Single Family Residential</td>\n",
       "      <td>None</td>\n",
       "      <td>None</td>\n",
       "      <td>None</td>\n",
       "      <td>None</td>\n",
       "    </tr>\n",
       "    <tr>\n",
       "      <th>1</th>\n",
       "      <td>NaN</td>\n",
       "      <td>17052889</td>\n",
       "      <td>NaN</td>\n",
       "      <td>NaN</td>\n",
       "      <td>NaN</td>\n",
       "      <td>261.0</td>\n",
       "      <td>NaN</td>\n",
       "      <td>1387261</td>\n",
       "      <td>NaN</td>\n",
       "      <td>1.0</td>\n",
       "      <td>...</td>\n",
       "      <td>2017-01-01</td>\n",
       "      <td>1</td>\n",
       "      <td>0.055619</td>\n",
       "      <td>2017-01-01</td>\n",
       "      <td>None</td>\n",
       "      <td>Single Family Residential</td>\n",
       "      <td>None</td>\n",
       "      <td>None</td>\n",
       "      <td>None</td>\n",
       "      <td>None</td>\n",
       "    </tr>\n",
       "    <tr>\n",
       "      <th>2</th>\n",
       "      <td>NaN</td>\n",
       "      <td>14186244</td>\n",
       "      <td>NaN</td>\n",
       "      <td>NaN</td>\n",
       "      <td>NaN</td>\n",
       "      <td>261.0</td>\n",
       "      <td>NaN</td>\n",
       "      <td>11677</td>\n",
       "      <td>NaN</td>\n",
       "      <td>2.0</td>\n",
       "      <td>...</td>\n",
       "      <td>2017-01-01</td>\n",
       "      <td>2</td>\n",
       "      <td>0.005383</td>\n",
       "      <td>2017-01-01</td>\n",
       "      <td>None</td>\n",
       "      <td>Single Family Residential</td>\n",
       "      <td>None</td>\n",
       "      <td>None</td>\n",
       "      <td>None</td>\n",
       "      <td>None</td>\n",
       "    </tr>\n",
       "    <tr>\n",
       "      <th>3</th>\n",
       "      <td>2.0</td>\n",
       "      <td>12177905</td>\n",
       "      <td>NaN</td>\n",
       "      <td>NaN</td>\n",
       "      <td>NaN</td>\n",
       "      <td>261.0</td>\n",
       "      <td>NaN</td>\n",
       "      <td>2288172</td>\n",
       "      <td>NaN</td>\n",
       "      <td>3.0</td>\n",
       "      <td>...</td>\n",
       "      <td>2017-01-01</td>\n",
       "      <td>3</td>\n",
       "      <td>-0.103410</td>\n",
       "      <td>2017-01-01</td>\n",
       "      <td>None</td>\n",
       "      <td>Single Family Residential</td>\n",
       "      <td>None</td>\n",
       "      <td>None</td>\n",
       "      <td>None</td>\n",
       "      <td>Central</td>\n",
       "    </tr>\n",
       "    <tr>\n",
       "      <th>4</th>\n",
       "      <td>2.0</td>\n",
       "      <td>12095076</td>\n",
       "      <td>NaN</td>\n",
       "      <td>NaN</td>\n",
       "      <td>1.0</td>\n",
       "      <td>261.0</td>\n",
       "      <td>NaN</td>\n",
       "      <td>781532</td>\n",
       "      <td>NaN</td>\n",
       "      <td>3.0</td>\n",
       "      <td>...</td>\n",
       "      <td>2017-01-01</td>\n",
       "      <td>6</td>\n",
       "      <td>-0.001011</td>\n",
       "      <td>2017-01-01</td>\n",
       "      <td>None</td>\n",
       "      <td>Single Family Residential</td>\n",
       "      <td>Central</td>\n",
       "      <td>None</td>\n",
       "      <td>None</td>\n",
       "      <td>Central</td>\n",
       "    </tr>\n",
       "  </tbody>\n",
       "</table>\n",
       "<p>5 rows × 69 columns</p>\n",
       "</div>"
      ],
      "text/plain": [
       "   heatingorsystemtypeid  parcelid  storytypeid  typeconstructiontypeid  \\\n",
       "0                    NaN  14297519          NaN                     NaN   \n",
       "1                    NaN  17052889          NaN                     NaN   \n",
       "2                    NaN  14186244          NaN                     NaN   \n",
       "3                    2.0  12177905          NaN                     NaN   \n",
       "4                    2.0  12095076          NaN                     NaN   \n",
       "\n",
       "   airconditioningtypeid  propertylandusetypeid  architecturalstyletypeid  \\\n",
       "0                    NaN                  261.0                       NaN   \n",
       "1                    NaN                  261.0                       NaN   \n",
       "2                    NaN                  261.0                       NaN   \n",
       "3                    NaN                  261.0                       NaN   \n",
       "4                    1.0                  261.0                       NaN   \n",
       "\n",
       "        id  basementsqft  bathroomcnt  ...  max_transactiondate id  logerror  \\\n",
       "0  1727539           NaN          3.5  ...           2017-01-01  0  0.025595   \n",
       "1  1387261           NaN          1.0  ...           2017-01-01  1  0.055619   \n",
       "2    11677           NaN          2.0  ...           2017-01-01  2  0.005383   \n",
       "3  2288172           NaN          3.0  ...           2017-01-01  3 -0.103410   \n",
       "4   781532           NaN          3.0  ...           2017-01-01  6 -0.001011   \n",
       "\n",
       "   transactiondate  architecturalstyledesc        propertylandusedesc  \\\n",
       "0       2017-01-01                    None  Single Family Residential   \n",
       "1       2017-01-01                    None  Single Family Residential   \n",
       "2       2017-01-01                    None  Single Family Residential   \n",
       "3       2017-01-01                    None  Single Family Residential   \n",
       "4       2017-01-01                    None  Single Family Residential   \n",
       "\n",
       "   airconditioningdesc  typeconstructiondesc storydesc heatingorsystemdesc  \n",
       "0                 None                  None      None                None  \n",
       "1                 None                  None      None                None  \n",
       "2                 None                  None      None                None  \n",
       "3                 None                  None      None             Central  \n",
       "4              Central                  None      None             Central  \n",
       "\n",
       "[5 rows x 69 columns]"
      ]
     },
     "execution_count": 3,
     "metadata": {},
     "output_type": "execute_result"
    }
   ],
   "source": [
    "df.head()"
   ]
  },
  {
   "cell_type": "markdown",
   "id": "2fd95945",
   "metadata": {},
   "source": [
    "### Prepare"
   ]
  },
  {
   "cell_type": "code",
   "execution_count": 4,
   "id": "c64651f5",
   "metadata": {},
   "outputs": [],
   "source": [
    "# remove rows and columns with more than 30% missing data\n",
    "df = wrangle_zillow.handle_missing_values(df, .7,.7)"
   ]
  },
  {
   "cell_type": "code",
   "execution_count": 5,
   "id": "911eec5f",
   "metadata": {},
   "outputs": [
    {
     "data": {
      "text/plain": [
       "parcelid                        0.000000\n",
       "propertylandusetypeid           0.000000\n",
       "id                              0.000000\n",
       "bathroomcnt                     0.000000\n",
       "bedroomcnt                      0.000000\n",
       "calculatedbathnbr               0.002574\n",
       "calculatedfinishedsquarefeet    0.001526\n",
       "finishedsquarefeet12            0.004672\n",
       "fips                            0.000000\n",
       "fullbathcnt                     0.002574\n",
       "latitude                        0.000000\n",
       "longitude                       0.000000\n",
       "lotsizesquarefeet               0.006999\n",
       "propertycountylandusecode       0.000000\n",
       "rawcensustractandblock          0.000000\n",
       "regionidcity                    0.019737\n",
       "regionidcounty                  0.000000\n",
       "regionidzip                     0.000458\n",
       "roomcnt                         0.000000\n",
       "yearbuilt                       0.002174\n",
       "structuretaxvaluedollarcnt      0.001564\n",
       "taxvaluedollarcnt               0.000019\n",
       "assessmentyear                  0.000000\n",
       "landtaxvaluedollarcnt           0.000019\n",
       "taxamount                       0.000076\n",
       "censustractandblock             0.002307\n",
       "max_transactiondate             0.000000\n",
       "id                              0.000000\n",
       "logerror                        0.000000\n",
       "transactiondate                 0.000000\n",
       "propertylandusedesc             0.000000\n",
       "dtype: float64"
      ]
     },
     "execution_count": 5,
     "metadata": {},
     "output_type": "execute_result"
    }
   ],
   "source": [
    "# view remaining null values\n",
    "df.isna().mean()"
   ]
  },
  {
   "cell_type": "code",
   "execution_count": 6,
   "id": "cc1c9e2b",
   "metadata": {},
   "outputs": [],
   "source": [
    "# drop remaining nulls\n",
    "df = df.dropna()"
   ]
  },
  {
   "cell_type": "code",
   "execution_count": 7,
   "id": "2cd61de6",
   "metadata": {},
   "outputs": [
    {
     "data": {
      "text/plain": [
       "(50673, 31)"
      ]
     },
     "execution_count": 7,
     "metadata": {},
     "output_type": "execute_result"
    }
   ],
   "source": [
    "df.shape"
   ]
  },
  {
   "cell_type": "code",
   "execution_count": 8,
   "id": "6cc58571",
   "metadata": {},
   "outputs": [],
   "source": [
    "# split data\n",
    "train, validate, test = wrangle_zillow.split_zillow_data(df)"
   ]
  },
  {
   "cell_type": "code",
   "execution_count": 10,
   "id": "dbee9dea",
   "metadata": {},
   "outputs": [
    {
     "data": {
      "text/plain": [
       "((28376, 31), (12162, 31), (10135, 31))"
      ]
     },
     "execution_count": 10,
     "metadata": {},
     "output_type": "execute_result"
    }
   ],
   "source": [
    "train.shape, validate.shape, test.shape"
   ]
  },
  {
   "cell_type": "code",
   "execution_count": null,
   "id": "818f6e2b",
   "metadata": {},
   "outputs": [],
   "source": []
  }
 ],
 "metadata": {
  "kernelspec": {
   "display_name": "Python 3 (ipykernel)",
   "language": "python",
   "name": "python3"
  },
  "language_info": {
   "codemirror_mode": {
    "name": "ipython",
    "version": 3
   },
   "file_extension": ".py",
   "mimetype": "text/x-python",
   "name": "python",
   "nbconvert_exporter": "python",
   "pygments_lexer": "ipython3",
   "version": "3.9.7"
  }
 },
 "nbformat": 4,
 "nbformat_minor": 5
}
